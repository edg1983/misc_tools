{
 "cells": [
  {
   "cell_type": "code",
   "execution_count": 27,
   "metadata": {},
   "outputs": [],
   "source": [
    "import pandas as pd\n",
    "from Bio import Entrez\n",
    "from Bio import SeqIO\n",
    "Entrez.email = \"edoardo.giacopuzzi@well.ox.ac.uk\""
   ]
  },
  {
   "cell_type": "code",
   "execution_count": null,
   "metadata": {},
   "outputs": [],
   "source": [
    "#Retrieve list of available DBs\n",
    "handle = Entrez.einfo()\n",
    "record = Entrez.read(handle)\n",
    "record[\"DbList\"]"
   ]
  },
  {
   "cell_type": "code",
   "execution_count": 12,
   "metadata": {},
   "outputs": [
    {
     "data": {
      "text/plain": [
       "dict_keys(['DbName', 'MenuName', 'Description', 'DbBuild', 'Count', 'LastUpdate', 'FieldList', 'LinkList'])"
      ]
     },
     "execution_count": 12,
     "metadata": {},
     "output_type": "execute_result"
    }
   ],
   "source": [
    "#See available descriptors\n",
    "record[\"DbInfo\"].keys()"
   ]
  },
  {
   "cell_type": "code",
   "execution_count": 9,
   "metadata": {},
   "outputs": [],
   "source": [
    "#Access a specific db\n",
    "handle = Entrez.einfo(db=\"nucleotide\")\n",
    "record = Entrez.read(handle)"
   ]
  },
  {
   "cell_type": "code",
   "execution_count": null,
   "metadata": {},
   "outputs": [],
   "source": [
    "#See searchable terms\n",
    "for field in record[\"DbInfo\"][\"FieldList\"]:\n",
    "    print(\"%(Name)s, %(FullName)s, %(Description)s\" % field)"
   ]
  },
  {
   "cell_type": "code",
   "execution_count": 15,
   "metadata": {},
   "outputs": [
    {
     "data": {
      "text/plain": [
       "['4758', '51162', '9148']"
      ]
     },
     "execution_count": 15,
     "metadata": {},
     "output_type": "execute_result"
    }
   ],
   "source": [
    "#Perform search\n",
    "#See https://www.ncbi.nlm.nih.gov/books/NBK25499/#chapter4.ESearch for detailed options\n",
    "handle = Entrez.esearch(db=\"gene\", term=\"Homo sapiens[ORGN] AND NEU1[GENE]\")\n",
    "record = Entrez.read(handle)\n",
    "record[\"IdList\"]"
   ]
  },
  {
   "cell_type": "code",
   "execution_count": 33,
   "metadata": {},
   "outputs": [
    {
     "name": "stdout",
     "output_type": "stream",
     "text": [
      "Symbol: NEU1\n",
      "Location: 6:31862820-31857658\n",
      "The protein encoded by this gene is a lysosomal enzyme that cleaves terminal sialic acid residues from substrates such as glycoproteins and glycolipids. In the lysosome, this enzyme is part of a heterotrimeric complex together with beta-galactosidase and cathepsin A (the latter is also referred to as 'protective protein'). Mutations in this gene can lead to sialidosis, a lysosomal storage disease that can be type 1 (cherry red spot-myoclonus syndrome or normosomatic type), which is late-onset, or type 2 (the dysmorphic type), which occurs at an earlier age with increased severity. [provided by RefSeq, Jul 2008]\n"
     ]
    }
   ],
   "source": [
    "#Get summary info for a record\n",
    "#See https://www.ncbi.nlm.nih.gov/books/NBK25499/#chapter4.ESummary for detailed options\n",
    "handle = Entrez.esummary(db=\"gene\", id=\"4758\")\n",
    "record = Entrez.read(handle)\n",
    "\n",
    "#For a gene get symbol, description, location, summary\n",
    "gene_symbol = record['DocumentSummarySet']['DocumentSummary'][0]['Name']\n",
    "gene_desc = record['DocumentSummarySet']['DocumentSummary'][0]['Description']\n",
    "gene_chr = record['DocumentSummarySet']['DocumentSummary'][0]['GenomicInfo'][0]['ChrLoc']\n",
    "gene_start = record['DocumentSummarySet']['DocumentSummary'][0]['GenomicInfo'][0]['ChrStart']\n",
    "gene_end = record['DocumentSummarySet']['DocumentSummary'][0]['GenomicInfo'][0]['ChrStop']\n",
    "gene_summ = record['DocumentSummarySet']['DocumentSummary'][0]['Summary']\n",
    "\n",
    "print(\"Symbol: \"+gene_symbol+\"\\nLocation: \"+gene_chr+\":\"+gene_start+\"-\"+gene_end+\"\\n\"+gene_summ)"
   ]
  },
  {
   "cell_type": "code",
   "execution_count": 3,
   "metadata": {},
   "outputs": [
    {
     "data": {
      "text/html": [
       "<div>\n",
       "<style scoped>\n",
       "    .dataframe tbody tr th:only-of-type {\n",
       "        vertical-align: middle;\n",
       "    }\n",
       "\n",
       "    .dataframe tbody tr th {\n",
       "        vertical-align: top;\n",
       "    }\n",
       "\n",
       "    .dataframe thead th {\n",
       "        text-align: right;\n",
       "    }\n",
       "</style>\n",
       "<table border=\"1\" class=\"dataframe\">\n",
       "  <thead>\n",
       "    <tr style=\"text-align: right;\">\n",
       "      <th></th>\n",
       "      <th>ID</th>\n",
       "      <th>symbol</th>\n",
       "      <th>desc</th>\n",
       "      <th>location</th>\n",
       "      <th>MIM</th>\n",
       "      <th>length</th>\n",
       "      <th>summ</th>\n",
       "    </tr>\n",
       "  </thead>\n",
       "  <tbody>\n",
       "    <tr>\n",
       "      <th>0</th>\n",
       "      <td>4758</td>\n",
       "      <td>NEU1</td>\n",
       "      <td>neuraminidase 1</td>\n",
       "      <td>6:31862820-31857658</td>\n",
       "      <td>[608272]</td>\n",
       "      <td>10269</td>\n",
       "      <td>The protein encoded by this gene is a lysosoma...</td>\n",
       "    </tr>\n",
       "    <tr>\n",
       "      <th>1</th>\n",
       "      <td>51162</td>\n",
       "      <td>EGFL7</td>\n",
       "      <td>EGF like domain multiple 7</td>\n",
       "      <td>9:136654752-136672677</td>\n",
       "      <td>[608582]</td>\n",
       "      <td>6960</td>\n",
       "      <td>This gene encodes a secreted endothelial cell ...</td>\n",
       "    </tr>\n",
       "    <tr>\n",
       "      <th>2</th>\n",
       "      <td>9148</td>\n",
       "      <td>NEURL1</td>\n",
       "      <td>neuralized E3 ubiquitin protein ligase 1</td>\n",
       "      <td>10:103493704-103592545</td>\n",
       "      <td>[603804]</td>\n",
       "      <td>1526</td>\n",
       "      <td></td>\n",
       "    </tr>\n",
       "    <tr>\n",
       "      <th>3</th>\n",
       "      <td>23348</td>\n",
       "      <td>DOCK9</td>\n",
       "      <td>dedicator of cytokinesis 9</td>\n",
       "      <td>13:99086693-98793428</td>\n",
       "      <td>[607325]</td>\n",
       "      <td>1963</td>\n",
       "      <td></td>\n",
       "    </tr>\n",
       "    <tr>\n",
       "      <th>4</th>\n",
       "      <td>7273</td>\n",
       "      <td>TTN</td>\n",
       "      <td>titin</td>\n",
       "      <td>2:178807422-178525988</td>\n",
       "      <td>[188840]</td>\n",
       "      <td>32078</td>\n",
       "      <td>This gene encodes a large abundant protein of ...</td>\n",
       "    </tr>\n",
       "  </tbody>\n",
       "</table>\n",
       "</div>"
      ],
      "text/plain": [
       "      ID  symbol                                      desc  \\\n",
       "0   4758    NEU1                           neuraminidase 1   \n",
       "1  51162   EGFL7                EGF like domain multiple 7   \n",
       "2   9148  NEURL1  neuralized E3 ubiquitin protein ligase 1   \n",
       "3  23348   DOCK9                dedicator of cytokinesis 9   \n",
       "4   7273     TTN                                     titin   \n",
       "\n",
       "                 location       MIM length  \\\n",
       "0     6:31862820-31857658  [608272]  10269   \n",
       "1   9:136654752-136672677  [608582]   6960   \n",
       "2  10:103493704-103592545  [603804]   1526   \n",
       "3    13:99086693-98793428  [607325]   1963   \n",
       "4   2:178807422-178525988  [188840]  32078   \n",
       "\n",
       "                                                summ  \n",
       "0  The protein encoded by this gene is a lysosoma...  \n",
       "1  This gene encodes a secreted endothelial cell ...  \n",
       "2                                                     \n",
       "3                                                     \n",
       "4  This gene encodes a large abundant protein of ...  "
      ]
     },
     "execution_count": 3,
     "metadata": {},
     "output_type": "execute_result"
    }
   ],
   "source": [
    "#For a list of gene get infos into panda table\n",
    "mygenes = ['NEU1','DOCK9','TTN']\n",
    "myorgn = \"Homo sapiens\"\n",
    "\n",
    "d = {'ID' : [],\n",
    "     'symbol': [],\n",
    "     'desc': [],\n",
    "     'location': [],\n",
    "     'MIM' : [],\n",
    "     'length': [],\n",
    "     'summ': []\n",
    "    }\n",
    "genetab = pd.DataFrame(d) \n",
    "\n",
    "for g in mygenes:\n",
    "    handle = Entrez.esearch(db=\"gene\", term=myorgn+\"[ORGN] AND \"+g+\"[GENE]\")\n",
    "    record = Entrez.read(handle)\n",
    "    resultIDs = record[\"IdList\"]\n",
    "    \n",
    "    #Retrieve info for every found ID\n",
    "    for ID in resultIDs:\n",
    "        handle = Entrez.esummary(db=\"gene\", id=ID)\n",
    "        record = Entrez.read(handle)\n",
    "\n",
    "        #Get symbol, description, location, summary\n",
    "        gene_symbol = record['DocumentSummarySet']['DocumentSummary'][0]['Name']\n",
    "        gene_desc = record['DocumentSummarySet']['DocumentSummary'][0]['Description']\n",
    "        gene_mim = record['DocumentSummarySet']['DocumentSummary'][0]['Mim']\n",
    "        gene_chr = record['DocumentSummarySet']['DocumentSummary'][0]['GenomicInfo'][0]['ChrLoc']\n",
    "        gene_start = record['DocumentSummarySet']['DocumentSummary'][0]['GenomicInfo'][0]['ChrStart']\n",
    "        gene_end = record['DocumentSummarySet']['DocumentSummary'][0]['GenomicInfo'][0]['ChrStop']\n",
    "        location = gene_chr+\":\"+gene_start+\"-\"+gene_end\n",
    "        gene_length = record['DocumentSummarySet']['DocumentSummary'][0]['GeneWeight']\n",
    "        gene_summ = record['DocumentSummarySet']['DocumentSummary'][0]['Summary']\n",
    "        newline = {'ID':ID,'symbol':gene_symbol, 'desc':gene_desc, 'MIM':gene_mim, 'location':location, 'length':gene_length,'summ':gene_summ}\n",
    "        genetab = genetab.append(newline, ignore_index=True)\n",
    "\n",
    "genetab"
   ]
  },
  {
   "cell_type": "code",
   "execution_count": 24,
   "metadata": {},
   "outputs": [
    {
     "data": {
      "text/plain": [
       "['568815576', '1519313486', '123998448', '74273660', '74230000', '76827291', '76825405', '38512229', '33873956', '66904765', '261857719', '47678690', '109452089', '109451493', '123984506']"
      ]
     },
     "execution_count": 24,
     "metadata": {},
     "output_type": "execute_result"
    }
   ],
   "source": [
    "#Search for nucleotide db\n",
    "handle = Entrez.esearch(db=\"nucleotide\", term=\"Homo sapiens[ORGN] AND SLC7A4[GENE]\")\n",
    "record = Entrez.read(handle)\n",
    "record[\"IdList\"]"
   ]
  },
  {
   "cell_type": "code",
   "execution_count": 33,
   "metadata": {},
   "outputs": [
    {
     "name": "stdout",
     "output_type": "stream",
     "text": [
      "ID: NC_000022.11\n",
      "Name: NC_000022\n",
      "Description: Homo sapiens chromosome 22, GRCh38.p13 Primary Assembly\n",
      "Database cross-references: BioProject:PRJNA168, Assembly:GCF_000001405.39\n",
      "Number of features: 1\n",
      "/molecule_type=DNA\n",
      "/topology=linear\n",
      "/data_file_division=CON\n",
      "/date=14-JUN-2019\n",
      "/accessions=['NC_000022']\n",
      "/sequence_version=11\n",
      "/keywords=['RefSeq']\n",
      "/source=Homo sapiens (human)\n",
      "/organism=Homo sapiens\n",
      "/taxonomy=['Eukaryota', 'Metazoa', 'Chordata', 'Craniata', 'Vertebrata', 'Euteleostomi', 'Mammalia', 'Eutheria', 'Euarchontoglires', 'Primates', 'Haplorrhini', 'Catarrhini', 'Hominidae', 'Homo']\n",
      "/references=[Reference(title='Finishing the finished human chromosome 22 sequence', ...), Reference(title='Finishing the euchromatic sequence of the human genome', ...), Reference(title='Initial sequencing and analysis of the human genome', ...)]\n",
      "/comment=REFSEQ INFORMATION: The reference sequence is identical to\n",
      "CM000684.2.\n",
      "On Feb 3, 2014 this sequence version replaced NC_000022.10.\n",
      "Assembly Name: GRCh38.p13 Primary Assembly\n",
      "The DNA sequence is composed of genomic sequence, primarily\n",
      "finished clones that were sequenced as part of the Human Genome\n",
      "Project. PCR products and WGS shotgun sequence have been added\n",
      "where necessary to fill gaps or correct errors. All such additions\n",
      "are manually curated by GRC staff. For more information see:\n",
      "https://genomereference.org.\n",
      "                               Release 109.20190607\n",
      "                               pipeline\n",
      "                               RefSeq model\n",
      "/structured_comment=OrderedDict([('Genome-Annotation-Data', OrderedDict([('Annotation Provider', 'NCBI'), ('Annotation Status', 'Updated annotation'), ('Annotation Name', 'Homo sapiens Updated Annotation'), ('Annotation Version', '109.20190607'), ('Annotation Pipeline', 'NCBI eukaryotic genome annotation'), ('Annotation Software Version', '8.2'), ('Annotation Method', 'Best-placed RefSeq; propagated'), ('Features Annotated', 'Gene; mRNA; CDS; ncRNA')]))])\n",
      "/contig=join(gap(10000),gap(10500000),NT_167212.2:1..274643,gap(50000),NT_167238.1:1..39929,gap(50000),NT_167235.1:1..42152,gap(50000),NT_167231.2:1..52263,gap(50000),NT_167230.1:1..41934,gap(50000),NT_187334.1:1..167135,gap(50000),NT_167227.2:1..69281,gap(50000),NT_187335.1:1..83951,gap(50000),NT_167237.1:1..43341,gap(50000),NT_187336.1:1..202926,gap(50000),NT_187337.1:1..198033,gap(50000),NT_187338.1:1..163102,gap(50000),NT_187339.1:1..153040,gap(50000),NT_167229.1:1..34474,gap(50000),NT_167234.1:1..41933,gap(50000),NT_167239.1:1..36651,gap(50000),NT_187340.1:1..22537,gap(100),NT_187341.1:1..43897,gap(100),NT_187342.1:1..88022,gap(100),NT_187343.1:1..54133,gap(100),NT_187344.1:1..63535,gap(100),NT_187345.1:1..20670,gap(100),NT_187346.1:1..6670,gap(100),NT_187347.1:1..3245,gap(100),NT_187348.1:1..22561,gap(100),NT_187349.1:1..4185,gap(100),NT_187350.1:1..1134211,gap(100),NT_187351.1:1..340,gap(100),NT_187352.1:1..340,gap(100),NT_187353.1:1..1198,gap(100),NT_187354.1:1..632586,gap(100000),NT_187355.1:1..3084811,gap(100000),NT_187356.1:1..94384,gap(50000),NT_187357.1:1..176051,gap(50000),NT_011520.13:1..31264301,gap(1500),NT_011526.8:1..833103,gap(10000))\n",
      "UnknownSeq(50818468, alphabet=IUPACAmbiguousDNA(), character='N')\n"
     ]
    }
   ],
   "source": [
    "#Get sequence (available formats at https://www.ncbi.nlm.nih.gov/books/NBK25499/table/chapter4.T._valid_values_of__retmode_and/?report=objectonly)\n",
    "handle = Entrez.efetch(db=\"nucleotide\", id=\"568815576\", rettype=\"gb\", retmode=\"text\")\n",
    "record = SeqIO.read(handle, \"genbank\")\n",
    "handle.close()\n",
    "print(record)"
   ]
  },
  {
   "cell_type": "code",
   "execution_count": null,
   "metadata": {},
   "outputs": [],
   "source": []
  }
 ],
 "metadata": {
  "kernelspec": {
   "display_name": "Python 3",
   "language": "python",
   "name": "python3"
  },
  "language_info": {
   "codemirror_mode": {
    "name": "ipython",
    "version": 3
   },
   "file_extension": ".py",
   "mimetype": "text/x-python",
   "name": "python",
   "nbconvert_exporter": "python",
   "pygments_lexer": "ipython3",
   "version": "3.7.3"
  }
 },
 "nbformat": 4,
 "nbformat_minor": 2
}
